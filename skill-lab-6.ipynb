{
 "cells": [
  {
   "cell_type": "code",
   "execution_count": null,
   "metadata": {},
   "outputs": [],
   "source": [
    "# input user‘s first word\n",
    "word_A = input(\"Please enter a word: \")\n",
    "# input user’s second word\n",
    "word_B = input(\"Please enter another word: \")\n",
    "# if the first word is included in the second word\n",
    "if word_A in word_B:\n",
    "    # print out the inclusion statement by using capitalize()\n",
    "    print(word_A.capitalize() + \" is included in \" + word_B.capitalize())\n",
    "    # count() to return the number of non-overlapping occurrences of the first word in the range of second word\n",
    "    count = word_B.count(word_A)\n",
    "    # print out the count statement\n",
    "    print(\"The first word is found \" + str(count) + \" times in the second word.\")\n",
    "    # find() to return the lowest index in the second word where the first word is found \n",
    "    index = word_B.find(word_A)\n",
    "    # print out the find statement\n",
    "    print(\"The first word is found at the \" + str(index) + \"th index of the second word.\")\n",
    "# else the first word is not included in the second word\n",
    "else:\n",
    "    # print out the exclusion statement by using capitalize()\n",
    "    print(word_A.capitalize() + \" is not included in \" + word_B.capitalize())"
   ]
  }
 ],
 "metadata": {
  "kernelspec": {
   "display_name": "Python 3",
   "language": "python",
   "name": "python3"
  },
  "language_info": {
   "codemirror_mode": {
    "name": "ipython",
    "version": 3
   },
   "file_extension": ".py",
   "mimetype": "text/x-python",
   "name": "python",
   "nbconvert_exporter": "python",
   "pygments_lexer": "ipython3",
   "version": "3.8.3"
  }
 },
 "nbformat": 4,
 "nbformat_minor": 4
}

